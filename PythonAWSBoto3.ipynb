{
 "cells": [
  {
   "cell_type": "markdown",
   "id": "f2e47c24",
   "metadata": {},
   "source": [
    "<h1 align=\"center\">Python-AWS-Boto3</h1><br>"
   ]
  },
  {
   "cell_type": "markdown",
   "id": "3ca24356",
   "metadata": {},
   "source": [
    "###  Boto3 SDK\n",
    "To access AWS from Python, Amazon offers the Boto3 SDK. To use it, we will install it using:\n",
    "    \n",
    "   ```pip install boto3```\n",
    "\n",
    "You can check all the information related to Boto3 in its <a href=\"https://boto3.amazonaws.com/v1/documentation/api/latest/index.html\">official documentation</a>.\n",
    "\n",
    "There are two possibilities to access AWS through Boto3:\n",
    "\n",
    "Resources: represent an object-oriented interface to AWS, so that each resource will contain an identifier, attributes, and a set of operations. An example of a resource is <a href=\"https://boto3.amazonaws.com/v1/documentation/api/latest/reference/services/s3/object/index.html\">S3</a>. More information about resources can be found in the <a href=\"https://boto3.amazonaws.com/v1/documentation/api/latest/guide/resources.html\">official documentation</a>.\n",
    "\n",
    "Clients: provide a low-level interface that maps 1:1 with the API of each service. Clients are generated from the JSON definition of the service. More information can be found in the <a href=\"https://boto3.amazonaws.com/v1/documentation/api/latest/guide/clients.html\">official documentation</a>.\n",
    "\n",
    "In summary, resources provide a higher-level abstraction of AWS services than clients. It is recommended to use resources as you don't have to worry about how communication and interaction with the services are done under the hood. However, there are currently no resources for all AWS services, and therefore, sometimes there is no other option but to use clients.\n",
    "\n",
    "To demonstrate the differences, let's see how we can perform some operations using either the client or the resource (in these examples, we'll focus on the S3 service - https://boto3.amazonaws.com/v1/documentation/api/latest/reference/services/s3.html)."
   ]
  },
  {
   "cell_type": "code",
   "execution_count": 1,
   "id": "1887eeaf",
   "metadata": {},
   "outputs": [],
   "source": [
    "import boto3\n",
    "import os"
   ]
  },
  {
   "cell_type": "code",
   "execution_count": 2,
   "id": "09aef394",
   "metadata": {},
   "outputs": [],
   "source": [
    "\"\"\"\n",
    "    The credentials are stored into environment variables:\n",
    "\"\"\"\n",
    "\n",
    "AWS_ACCESS_KEY = os.getenv('AWS_ACCESS_KEY')\n",
    "AWS_SECRET_KEY = os.getenv('AWS_SECRET_KEY')\n",
    "\n",
    "AWS_REGION = os.getenv('AWS_REGION')"
   ]
  },
  {
   "cell_type": "code",
   "execution_count": 3,
   "id": "a2f107cb",
   "metadata": {},
   "outputs": [
    {
     "name": "stdout",
     "output_type": "stream",
     "text": [
      "Buckets using resource:\n",
      "\tkarel-covid19-project\n",
      "\tkarel-test-bucket\n",
      "\tkrd-bucket-krd\n",
      "\tmy-k-new-bucket\n",
      "Buckets using client:\n",
      "\tkarel-covid19-project\n",
      "\tkarel-test-bucket\n",
      "\tkrd-bucket-krd\n",
      "\tmy-k-new-bucket\n"
     ]
    }
   ],
   "source": [
    "# User's buckets\n",
    "\n",
    "# Option 1\n",
    "print('Buckets using resource:')\n",
    "\n",
    "# Create a S3 resource\n",
    "s3resource = boto3.resource(\n",
    "    's3', \n",
    "    region_name= AWS_REGION, \n",
    "    aws_access_key_id= AWS_ACCESS_KEY, \n",
    "    aws_secret_access_key= AWS_SECRET_KEY\n",
    ")\n",
    "buckets = s3resource.buckets.all()\n",
    "for bucket in buckets:\n",
    "    print(f'\\t{bucket.name}')\n",
    "\n",
    "\n",
    "    \n",
    "# Opción 2\n",
    "print('Buckets using client:')\n",
    "\n",
    "# Create a S3 client\n",
    "s3client = boto3.client(\n",
    "    's3', \n",
    "    region_name= AWS_REGION, \n",
    "    aws_access_key_id= AWS_ACCESS_KEY, \n",
    "    aws_secret_access_key= AWS_SECRET_KEY\n",
    ")\n",
    "response = s3client.list_buckets()\n",
    "for bucket in response['Buckets']:\n",
    "    print(f'\\t{bucket[\"Name\"]}')\n",
    "\n"
   ]
  },
  {
   "cell_type": "code",
   "execution_count": 4,
   "id": "4175b77d",
   "metadata": {},
   "outputs": [
    {
     "name": "stdout",
     "output_type": "stream",
     "text": [
      "TMDb_filtered.CSV\n",
      "TMDb_updated.csv\n"
     ]
    }
   ],
   "source": [
    "# Objects form a specific bucket\n",
    "\n",
    "bucket = s3resource.Bucket('my-k-new-bucket')\n",
    "for obj in bucket.objects.all():\n",
    "    print(obj.key)"
   ]
  },
  {
   "cell_type": "code",
   "execution_count": 5,
   "id": "5637dc8d",
   "metadata": {},
   "outputs": [
    {
     "name": "stdout",
     "output_type": "stream",
     "text": [
      "enigma-jhud/csv/Enigma-JHU.csv.gz.014c84bE.gz\n",
      "enigma-nytimes-data-in-usa/csv/us_county/us_county.csv.fDde7E2b\n",
      "enigma-nytimes-data-in-usa/csv/us_states/us_states.csv\n",
      "enigma-nytimes-data-in-usa/json/us_states/part-00000-ef8ae09e-40cc-486f-a91a-ced8e16a03eb-c000.json\n",
      "rearc-covid-19-testing-data/csv/states_daily/states_daily.csv.DD2BE07f\n",
      "rearc-covid-19-testing-data/csv/us-total-latest/us.csv\n",
      "rearc-covid-19-testing-data/csv/us_daily/us_daily.csv\n",
      "rearc-covid-19-testing-data/json/states_daily/part-00000-349d9bd9-a37f-4ac2-bcad-da29873fdf10-c000.json.93db33f9\n",
      "rearc-covid-19-testing-data/json/us-total-latest/part-00000-f2e315e2-6055-4fef-98d1-1e620b265158-c000.json\n",
      "rearc-covid-19-testing-data/json/us_daily/part-00000-41160f2e-4b45-479b-ae5e-acbc0a0026a5-c000.json\n",
      "rearc-usa-hospital-beds/usa-hospital-beds.geojson.4cCa297c\n",
      "static-datasets/csv/CountyPopulation/County_Population.csv\n",
      "static-datasets/csv/countrycode/CountryCodeQS.csv\n",
      "static-datasets/csv/state-abv/states_abv.csv\n",
      "static-datasets/json/countrycode/part-00000-eb56cbf7-e81a-463b-99a0-fee413e79475-c000.json\n",
      "static-datasets/json/state-abv/part-00000-7354f86c-52dd-4eb7-9ad4-5a4425778ea3-c000.json\n",
      "Unsaved/2023/04/11/1d8d13d0-aea1-4ff7-b34b-f3e29914e7c2.txt\n",
      "Unsaved/2023/04/11/1d8d13d0-aea1-4ff7-b34b-f3e29914e7c2.txt.metadata\n",
      "Unsaved/2023/04/11/2ce53867-b9eb-4d7e-b80c-87d370969dd7.txt\n",
      "Unsaved/2023/04/11/2ce53867-b9eb-4d7e-b80c-87d370969dd7.txt.metadata\n",
      "Unsaved/2023/04/11/3326664c-8ee2-46ef-a33f-df2672666693.txt\n",
      "Unsaved/2023/04/11/3326664c-8ee2-46ef-a33f-df2672666693.txt.metadata\n",
      "Unsaved/2023/04/11/4838e43d-fb36-4958-85f6-c3a05d1084af.csv\n",
      "Unsaved/2023/04/11/4838e43d-fb36-4958-85f6-c3a05d1084af.csv.metadata\n",
      "Unsaved/2023/04/11/48919f23-0ee7-4a8e-8c1a-a65f5bf3682e.csv\n",
      "Unsaved/2023/04/11/48919f23-0ee7-4a8e-8c1a-a65f5bf3682e.csv.metadata\n",
      "Unsaved/2023/04/11/49af8634-9ae2-41ae-862f-33c3e6564351.txt\n",
      "Unsaved/2023/04/11/49af8634-9ae2-41ae-862f-33c3e6564351.txt.metadata\n",
      "Unsaved/2023/04/11/526899be-4553-487e-acae-1bfed029bae6.txt\n",
      "Unsaved/2023/04/11/7b9dd95b-d2bd-4ee7-b22e-6ca3404cb396.csv\n",
      "Unsaved/2023/04/11/7b9dd95b-d2bd-4ee7-b22e-6ca3404cb396.csv.metadata\n",
      "Unsaved/2023/04/11/8b02e5a3-4ee4-451d-b22e-2330cda4530e.txt\n",
      "Unsaved/2023/04/11/8b02e5a3-4ee4-451d-b22e-2330cda4530e.txt.metadata\n",
      "Unsaved/2023/04/11/9da0c06b-e0ef-48c6-977e-7e1bf70b1988.txt\n",
      "Unsaved/2023/04/11/9fb5f6a2-b1bf-4c79-83a4-0567d2ff273a.csv\n",
      "Unsaved/2023/04/11/9fb5f6a2-b1bf-4c79-83a4-0567d2ff273a.csv.metadata\n",
      "Unsaved/2023/04/11/a580fb3d-26db-486b-8541-954743d9810a.csv\n",
      "Unsaved/2023/04/11/a580fb3d-26db-486b-8541-954743d9810a.csv.metadata\n",
      "Unsaved/2023/04/11/a76fe201-2cb4-4e1a-8421-8eb962b482f6.txt\n",
      "Unsaved/2023/04/11/a76fe201-2cb4-4e1a-8421-8eb962b482f6.txt.metadata\n",
      "Unsaved/2023/04/11/a80633ce-beae-451e-9d85-e7c73b3f549e.txt\n",
      "Unsaved/2023/04/11/a80633ce-beae-451e-9d85-e7c73b3f549e.txt.metadata\n",
      "Unsaved/2023/04/11/add26097-fb1e-4246-b3cc-81fc2d05b9f0.txt\n",
      "Unsaved/2023/04/11/add26097-fb1e-4246-b3cc-81fc2d05b9f0.txt.metadata\n",
      "Unsaved/2023/04/11/b536dbbf-ef91-4b5c-b39c-a90edea28e39.csv\n",
      "Unsaved/2023/04/11/b536dbbf-ef91-4b5c-b39c-a90edea28e39.csv.metadata\n",
      "Unsaved/2023/04/11/bb49b071-2ad5-4369-b76c-cc0dd434f674.txt\n",
      "Unsaved/2023/04/11/bb49b071-2ad5-4369-b76c-cc0dd434f674.txt.metadata\n",
      "Unsaved/2023/04/11/bdff0eb3-72bf-44c2-b8b5-7fbd0e00ba72.csv\n",
      "Unsaved/2023/04/11/bdff0eb3-72bf-44c2-b8b5-7fbd0e00ba72.csv.metadata\n",
      "Unsaved/2023/04/11/ced42b0e-91af-41cc-bf6d-7629efdccbdc.txt\n",
      "Unsaved/2023/04/11/ced42b0e-91af-41cc-bf6d-7629efdccbdc.txt.metadata\n",
      "Unsaved/2023/04/11/dfe8c315-d873-413b-a5cd-41964f85c272.csv\n",
      "Unsaved/2023/04/11/dfe8c315-d873-413b-a5cd-41964f85c272.csv.metadata\n",
      "Unsaved/2023/04/11/e1ef87da-41dd-4034-8b7f-826b41d4caaa.csv\n",
      "Unsaved/2023/04/11/e1ef87da-41dd-4034-8b7f-826b41d4caaa.csv.metadata\n",
      "Unsaved/2023/04/11/e84d9105-2609-4630-b69b-7045c61d3a39.txt\n",
      "Unsaved/2023/04/11/e84d9105-2609-4630-b69b-7045c61d3a39.txt.metadata\n",
      "Unsaved/2023/04/11/eaa241ce-1ead-43b5-92aa-1214d80af437.txt\n",
      "Unsaved/2023/04/11/eb2d4777-4308-4496-b7f8-603d83599d32.csv\n",
      "Unsaved/2023/04/11/eb2d4777-4308-4496-b7f8-603d83599d32.csv.metadata\n",
      "Unsaved/2023/04/11/f6f3ac54-e355-4a08-8fae-c71d1697952b.txt\n",
      "Unsaved/2023/04/11/f6f3ac54-e355-4a08-8fae-c71d1697952b.txt.metadata\n",
      "Unsaved/2023/04/11/f7ec102b-7da4-468f-aecd-e9cf22788581.csv\n",
      "Unsaved/2023/04/11/f7ec102b-7da4-468f-aecd-e9cf22788581.csv.metadata\n",
      "allevents_pipe.txt\n",
      "allusers_pipe.txt\n",
      "category_pipe.txt\n",
      "date2008_pipe.txt\n",
      "listings_pipe.txt\n",
      "output/\n",
      "output/02f92c08-26a6-4d07-a295-efea88fe0899.csv\n",
      "output/02f92c08-26a6-4d07-a295-efea88fe0899.csv.metadata\n",
      "output/0f5bab95-aa67-4950-a6f3-d81f8cde2a3b.csv\n",
      "output/0f5bab95-aa67-4950-a6f3-d81f8cde2a3b.csv.metadata\n",
      "output/33ee3693-d611-462f-8d88-ec8f19d49261.csv\n",
      "output/33ee3693-d611-462f-8d88-ec8f19d49261.csv.metadata\n",
      "output/403de587-b6a7-4089-bb62-534cdd488609.csv\n",
      "output/403de587-b6a7-4089-bb62-534cdd488609.csv.metadata\n",
      "output/5324125e-82c5-47ad-9d9d-ddb4592c0bfb.csv\n",
      "output/5324125e-82c5-47ad-9d9d-ddb4592c0bfb.csv.metadata\n",
      "output/6cfeb107-fe4d-49ec-a8f9-c37f9b58cfa6.csv\n",
      "output/6cfeb107-fe4d-49ec-a8f9-c37f9b58cfa6.csv.metadata\n",
      "output/7494ccfd-3f4b-45b9-a2b4-7fbbbbc5023a.csv\n",
      "output/7494ccfd-3f4b-45b9-a2b4-7fbbbbc5023a.csv.metadata\n",
      "output/7a157540-73d4-4494-9dc2-604fc998023e.csv\n",
      "output/7a157540-73d4-4494-9dc2-604fc998023e.csv.metadata\n",
      "output/b43bec39-618b-4d5b-9ecd-fda4260845e3.csv\n",
      "output/b43bec39-618b-4d5b-9ecd-fda4260845e3.csv.metadata\n",
      "output/c8adb403-5901-4663-bf9e-be2906cac42e.csv\n",
      "output/c8adb403-5901-4663-bf9e-be2906cac42e.csv.metadata\n",
      "output/ec67a9a7-cf87-46c9-897d-cc8b2cd513fd.csv\n",
      "output/ec67a9a7-cf87-46c9-897d-cc8b2cd513fd.csv.metadata\n",
      "output/f7f3b9d4-b3be-449c-8646-a973d0b6b33f.csv\n",
      "output/f7f3b9d4-b3be-449c-8646-a973d0b6b33f.csv.metadata\n",
      "perfectum met zijn.pdf\n",
      "sales_tab.txt\n",
      "venue_pipe.txt\n",
      "TMDb_filtered.CSV\n",
      "TMDb_updated.csv\n"
     ]
    }
   ],
   "source": [
    "# Elementos de todos los buckets\n",
    "\n",
    "for bucket in response['Buckets']:\n",
    "    b = s3resource.Bucket(bucket['Name'])\n",
    "    for obj in b.objects.all():\n",
    "        print(obj.key)"
   ]
  },
  {
   "cell_type": "code",
   "execution_count": 8,
   "id": "2ba9325d",
   "metadata": {},
   "outputs": [],
   "source": [
    "# Create a bucket\n",
    "# Note that the bucket name is global, so it has to be unique.\n",
    "\n",
    "# Option 1 - resource\n",
    "bucket = s3resource.Bucket('krd1-bucket')\n",
    "bucket.create(\n",
    "    CreateBucketConfiguration={\n",
    "        'LocationConstraint': 'eu-west-3'\n",
    "    }\n",
    ")\n",
    "\n",
    "# Option 2 - cliente\n",
    "response = s3client.create_bucket(\n",
    "    Bucket='krd2-bucket',\n",
    "    CreateBucketConfiguration={\n",
    "        'LocationConstraint': 'eu-west-3'\n",
    "    }\n",
    ")"
   ]
  },
  {
   "cell_type": "code",
   "execution_count": 9,
   "id": "6b84fcc9",
   "metadata": {},
   "outputs": [
    {
     "data": {
      "text/plain": [
       "{'ResponseMetadata': {'RequestId': 'JFK4TFSRYVZKEA7A',\n",
       "  'HostId': 'Cy+0DITUf/vXvhe0jAprJuNzbDkkOS8btOrI1VjqzCL8TP9hkVmZGY4Jf0R/DO9miLDFOQ/eISo=',\n",
       "  'HTTPStatusCode': 204,\n",
       "  'HTTPHeaders': {'x-amz-id-2': 'Cy+0DITUf/vXvhe0jAprJuNzbDkkOS8btOrI1VjqzCL8TP9hkVmZGY4Jf0R/DO9miLDFOQ/eISo=',\n",
       "   'x-amz-request-id': 'JFK4TFSRYVZKEA7A',\n",
       "   'date': 'Fri, 21 Apr 2023 17:38:41 GMT',\n",
       "   'server': 'AmazonS3'},\n",
       "  'RetryAttempts': 0}}"
      ]
     },
     "execution_count": 9,
     "metadata": {},
     "output_type": "execute_result"
    }
   ],
   "source": [
    "# Eliminación de un recurso / bucket\n",
    "\n",
    "bucket = s3resource.Bucket('krd1-bucket')\n",
    "\n",
    "# Elimina todos los objetos del bucket\n",
    "bucket.objects.delete()\n",
    "# Elimina el bucket\n",
    "bucket.delete()\n",
    "\n",
    "\n",
    "bucket = s3resource.Bucket('krd2-bucket')\n",
    "\n",
    "# Elimina todos los objetos del bucket\n",
    "bucket.objects.delete()\n",
    "# Elimina el bucket\n",
    "bucket.delete()"
   ]
  },
  {
   "cell_type": "code",
   "execution_count": null,
   "id": "7a130499",
   "metadata": {},
   "outputs": [],
   "source": []
  }
 ],
 "metadata": {
  "kernelspec": {
   "display_name": "Python 3 (ipykernel)",
   "language": "python",
   "name": "python3"
  },
  "language_info": {
   "codemirror_mode": {
    "name": "ipython",
    "version": 3
   },
   "file_extension": ".py",
   "mimetype": "text/x-python",
   "name": "python",
   "nbconvert_exporter": "python",
   "pygments_lexer": "ipython3",
   "version": "3.7.11"
  }
 },
 "nbformat": 4,
 "nbformat_minor": 5
}
