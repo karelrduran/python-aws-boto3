{
 "cells": [
  {
   "cell_type": "markdown",
   "id": "0abccbed",
   "metadata": {},
   "source": [
    "### Use case 3 - Querying data in DynamoDB\n",
    "\n",
    "Once we have our DynamoDB table loaded with data, it's time to retrieve the data, either a specific record or the ability to perform a query, whether by index or sort key (or both).\n",
    "\n",
    "In the session where we worked with DynamoDB, we learned that we can query the NoSQL database using a subset of SQL called PartiQL. In the following examples, we will show how to perform operations via the DynamoDB API and through PartiQL.\n",
    "\n",
    "If we want to retrieve the 2014 movie \"Interstellar,\" we would do:"
   ]
  },
  {
   "cell_type": "markdown",
   "id": "781167b0",
   "metadata": {},
   "source": [
    "### Using get_item"
   ]
  },
  {
   "cell_type": "code",
   "execution_count": 1,
   "id": "e51461e3",
   "metadata": {},
   "outputs": [],
   "source": [
    "import boto3\n",
    "import os\n",
    "import json\n",
    "import pprint"
   ]
  },
  {
   "cell_type": "code",
   "execution_count": 2,
   "id": "6609b469",
   "metadata": {},
   "outputs": [],
   "source": [
    "\"\"\"\n",
    "    The credentials are stored into environment variables:\n",
    "\"\"\"\n",
    "\n",
    "AWS_ACCESS_KEY = os.getenv('AWS_ACCESS_KEY')\n",
    "AWS_SECRET_KEY = os.getenv('AWS_SECRET_KEY')\n",
    "\n",
    "AWS_REGION = os.getenv('AWS_REGION')"
   ]
  },
  {
   "cell_type": "code",
   "execution_count": 3,
   "id": "8f75b11c",
   "metadata": {},
   "outputs": [
    {
     "name": "stdout",
     "output_type": "stream",
     "text": [
      "Result of get_item:\n",
      "\n",
      "{'info': {'plot': 'A group of explorers make use of a newly discovered '\n",
      "                  'wormhole to surpass the limitations on human space travel '\n",
      "                  'and conquer the vast distances involved in an interstellar '\n",
      "                  'voyage.'},\n",
      " 'title': 'Interstellar'}\n"
     ]
    }
   ],
   "source": [
    "dynamodb = boto3.resource(\n",
    "    'dynamodb', \n",
    "    region_name= AWS_REGION, \n",
    "    aws_access_key_id= AWS_ACCESS_KEY, \n",
    "    aws_secret_access_key= AWS_SECRET_KEY\n",
    ")\n",
    "\n",
    "table = dynamodb.Table('FilmsData')\n",
    "\n",
    "title = \"Interstellar\"\n",
    "year = 2014\n",
    "\n",
    "response = table.get_item(\n",
    "        Key={\n",
    "            'year': year,\n",
    "            'title': title\n",
    "        },\n",
    "        ProjectionExpression=\"title, info.plot\")\n",
    "item = response['Item']\n",
    "print('Result of get_item:\\n')\n",
    "pprint.pprint(item)"
   ]
  },
  {
   "cell_type": "markdown",
   "id": "0c5a96f5",
   "metadata": {},
   "source": [
    "### Using get_item with exceptions"
   ]
  },
  {
   "cell_type": "code",
   "execution_count": 4,
   "id": "995b8ccd",
   "metadata": {},
   "outputs": [
    {
     "name": "stdout",
     "output_type": "stream",
     "text": [
      "------ Data for Interstellar\n",
      "{'info': {'plot': 'A group of explorers make use of a newly discovered wormhole to surpass the limitations on human space travel and conquer the vast distances involved in an interstellar voyage.'}, 'title': 'Interstellar'}\n"
     ]
    }
   ],
   "source": [
    "from botocore.exceptions import ClientError\n",
    "\n",
    "table = dynamodb.Table('FilmsData')\n",
    "\n",
    "title = \"Interstellar\"\n",
    "year = 2014\n",
    "\n",
    "# Retrieve a movie\n",
    "print(\"------ Data for Interstellar\")\n",
    "try:\n",
    "    response = table.get_item(\n",
    "        Key={\n",
    "            'year': year,\n",
    "            'title': title\n",
    "        },\n",
    "        ProjectionExpression=\"title, info.plot\"\n",
    "    )\n",
    "except ClientError as e:\n",
    "    print(e.response['Error']['Message'])\n",
    "else:\n",
    "    item = response['Item']\n",
    "    print(item)"
   ]
  },
  {
   "cell_type": "markdown",
   "id": "4db5690a",
   "metadata": {},
   "source": [
    "### Using PartiQL"
   ]
  },
  {
   "cell_type": "code",
   "execution_count": 5,
   "id": "b53e4547",
   "metadata": {},
   "outputs": [
    {
     "name": "stdout",
     "output_type": "stream",
     "text": [
      "------ Data for Interstellar using PartiQL\n",
      "{'title': {'S': 'Interstellar'}, 'plot': {'S': 'A group of explorers make use of a newly discovered wormhole to surpass the limitations on human space travel and conquer the vast distances involved in an interstellar voyage.'}}\n",
      "------ Data for Interstellar using PartiQL with parameters\n",
      "{'year': {'N': '2014'}, 'info': {'M': {'rank': {'N': '493'}, 'actors': {'L': [{'S': 'Anne Hathaway'}, {'S': 'Matt Damon'}, {'S': 'Jessica Chastain'}]}, 'release_date': {'S': '2014-11-05T00:00:00Z'}, 'plot': {'S': 'A group of explorers make use of a newly discovered wormhole to surpass the limitations on human space travel and conquer the vast distances involved in an interstellar voyage.'}, 'genres': {'L': [{'S': 'Sci-Fi'}]}, 'directors': {'L': [{'S': 'Christopher Nolan'}]}}}, 'title': {'S': 'Interstellar'}}\n"
     ]
    }
   ],
   "source": [
    "clientDDB = boto3.client(\n",
    "    'dynamodb', \n",
    "    region_name= AWS_REGION, \n",
    "    aws_access_key_id= AWS_ACCESS_KEY, \n",
    "    aws_secret_access_key= AWS_SECRET_KEY\n",
    ")\n",
    "\n",
    "# Retrieve a movie with PartiQL\n",
    "print(\"------ Data for Interstellar using PartiQL\")\n",
    "resp = clientDDB.execute_statement(\n",
    "    Statement=\"SELECT title, info.plot FROM FilmsData WHERE year = 2014 and title='Interstellar'\")\n",
    "item = resp['Items'][0]\n",
    "print(item)\n",
    "\n",
    "title = \"Interstellar\"\n",
    "year = 2014\n",
    "# Retrieve a movie with PartiQL using specified parameters using \"?\"\n",
    "print(\"------ Data for Interstellar using PartiQL with parameters\")\n",
    "resp = clientDDB.execute_statement(Statement='SELECT * FROM FilmsData WHERE year = ? AND title = ?',\n",
    "                                    Parameters=[{'N': str(year)}, {'S': title}])\n",
    "item = resp['Items'][0]\n",
    "print(item)"
   ]
  },
  {
   "cell_type": "markdown",
   "id": "824c4baf",
   "metadata": {},
   "source": [
    "In the case of <a href=\"https://boto3.amazonaws.com/v1/documentation/api/latest/reference/services/dynamodb/client/execute_statement.html#\">using PartiQL queries with the execute_statement function</a>, it's worth noting that:\n",
    "\n",
    "* The queries are case sensitive.\n",
    "* Parameters are indicated using `?`\n",
    "* he contents of the parameters are indicated using a list with one dictionary per parameter where the key is the parameter type, and the value is the data to pass (the data is always passed as a `string`)\n",
    "* The queries always return a dictionary with a property called `Items` that contains the returned results.\n",
    "\n",
    "It's worth noting that the structure of the results from querying DynamoDB using the API (which respects the structure defined in the database) is different from the results obtained using PartiQL (which creates an attribute for each retrieved column whose value contains the data type)."
   ]
  },
  {
   "cell_type": "markdown",
   "id": "03b69d4b",
   "metadata": {},
   "source": [
    "### We can also perform other types of queries:"
   ]
  },
  {
   "cell_type": "markdown",
   "id": "4e78f7c6",
   "metadata": {},
   "source": [
    "#### Movies from 2016 using query"
   ]
  },
  {
   "cell_type": "code",
   "execution_count": 6,
   "id": "5e16b407",
   "metadata": {},
   "outputs": [
    {
     "name": "stdout",
     "output_type": "stream",
     "text": [
      "----- Movies from 2016\n",
      "2016 : Avatar 2\n",
      "2016 : Pirates of the Caribbean: Dead Men Tell No Tales\n",
      "2016 : The Flash\n",
      "----- Movies from 2016 using PartiQL\n",
      "2016 : Avatar 2\n",
      "2016 : Pirates of the Caribbean: Dead Men Tell No Tales\n",
      "2016 : The Flash\n"
     ]
    }
   ],
   "source": [
    "from boto3.dynamodb.conditions import Key\n",
    "\n",
    "dynamodb = boto3.resource(\n",
    "    'dynamodb', \n",
    "    region_name= AWS_REGION, \n",
    "    aws_access_key_id= AWS_ACCESS_KEY, \n",
    "    aws_secret_access_key= AWS_SECRET_KEY\n",
    ")\n",
    "\n",
    "# Using query\n",
    "table = dynamodb.Table('FilmsData')\n",
    "print(\"----- Movies from 2016\")\n",
    "resp = table.query(KeyConditionExpression=Key('year').eq(2016))\n",
    "for i in resp['Items']:\n",
    "    print(i['year'], \":\", i['title'])\n",
    "\n",
    "# Using PartiQL\n",
    "print(\"----- Movies from 2016 using PartiQL\")\n",
    "clientDDB = boto3.client(\n",
    "    'dynamodb', \n",
    "    region_name= AWS_REGION, \n",
    "    aws_access_key_id= AWS_ACCESS_KEY, \n",
    "    aws_secret_access_key= AWS_SECRET_KEY\n",
    ")\n",
    "resp = clientDDB.execute_statement(\n",
    "    Statement=\"SELECT title, year FROM FilmsData WHERE year = 2016\")\n",
    "for i in resp['Items']:\n",
    "    print(i['year']['N'], \":\", i['title']['S'])"
   ]
  },
  {
   "cell_type": "markdown",
   "id": "299b5e3b",
   "metadata": {},
   "source": [
    "#### Movies whose title is between A and L."
   ]
  },
  {
   "cell_type": "code",
   "execution_count": 8,
   "id": "db6ddd71",
   "metadata": {},
   "outputs": [
    {
     "name": "stdout",
     "output_type": "stream",
     "text": [
      "-----Movies whose title is between A and L.\n",
      "{'info': {'actors': ['Zoe Saldana'], 'genres': ['Action', 'Adventure', 'Fantasy', 'Sci-Fi']}, 'year': Decimal('2016'), 'title': 'Avatar 2'}\n",
      "{\"info\": {\"actors\": [\"Zoe Saldana\"], \"genres\": [\"Action\", \"Adventure\", \"Fantasy\", \"Sci-Fi\"]}, \"year\": 2016, \"title\": \"Avatar 2\"}\n",
      "Action\n",
      "Adventure\n",
      "Fantasy\n",
      "Sci-Fi\n",
      "-----Movies whose title is between A and L using PartiQL\n",
      "{'year': {'N': '2016'}, 'title': {'S': 'Avatar 2'}, 'actors[0]': {'S': 'Zoe Saldana'}, 'genres': {'L': [{'S': 'Action'}, {'S': 'Adventure'}, {'S': 'Fantasy'}, {'S': 'Sci-Fi'}]}}\n",
      "Action\n",
      "Adventure\n",
      "Fantasy\n",
      "Sci-Fi\n"
     ]
    }
   ],
   "source": [
    "import decimal\n",
    "\n",
    "\n",
    "class DecimalEncoder(json.JSONEncoder):\n",
    "    def default(self, o):\n",
    "        if isinstance(o, decimal.Decimal):\n",
    "            if o % 1 > 0:\n",
    "                return float(o)\n",
    "            else:\n",
    "                return int(o)\n",
    "        return super(DecimalEncoder, self).default(o)\n",
    "\n",
    "year2016 = 2016\n",
    "initialChar = \"A\"\n",
    "finalChar = \"F\"\n",
    "\n",
    "tabla = dynamodb.Table('FilmsData')\n",
    "\n",
    "print(\"-----Movies whose title is between A and L.\")\n",
    "resp = tabla.query(\n",
    "    ProjectionExpression=\"#yr, title, info.genres, info.actors[0]\",\n",
    "    # \"year\" is a reserved keyword in DynamoDB, so when using it in a query or \n",
    "    # PartiQL statement, we need to create an alias for it.\n",
    "    ExpressionAttributeNames={\"#yr\": \"year\"},\n",
    "    KeyConditionExpression=Key('year').eq(year2016) & Key('title').between(initialChar, finalChar)\n",
    ")\n",
    "for i in resp['Items']:\n",
    "    print(i)\n",
    "    # {'info': {'actors': ['Zoe Saldana'], 'genres': ['Action', 'Adventure', 'Fantasy', 'Sci-Fi']}, 'year': Decimal('2016'), 'title': 'Avatar 2'}\n",
    "    # Transform the numeric values from Decimal to Number\n",
    "    print(json.dumps(i, cls=DecimalEncoder))\n",
    "    # {\"info\": {\"actors\": [\"Zoe Saldana\"], \"genres\": [\"Action\", \"Adventure\", \"Fantasy\", \"Sci-Fi\"]}, \"year\": 2016, \"title\": \"Avatar 2\"}\n",
    "    for genre in i['info']['genres']:\n",
    "        print(genre)\n",
    "\n",
    "print(\"-----Movies whose title is between A and L using PartiQL\")\n",
    "query = 'SELECT year, title, info.genres, info.actors[0] FROM FilmsData WHERE year = ? AND title between ? and ?'\n",
    "resp = clientDDB.execute_statement(Statement=query,\n",
    "                                Parameters=[{'N': str(year2016)}, {'S': initialChar}, {'S': finalChar}])\n",
    "for i in resp['Items']:\n",
    "    print(i)\n",
    "    # [{'year': {'N': '2016'}, 'title': {'S': 'Avatar 2'}, 'actors[0]': {'S': 'Zoe Saldana'}, 'genres': {'L': [{'S': 'Action'}, {'S': 'Adventure'}, {'S': 'Fantasy'}, {'S': 'Sci-Fi'}]}}]\n",
    "    for genre in i['genres']['L']:\n",
    "        print(genre['S'])"
   ]
  },
  {
   "cell_type": "markdown",
   "id": "fc844f00",
   "metadata": {},
   "source": [
    "The `DecimalEncoder` class is used to transform the Decimal fields that DynamoDB uses to store numerical content into integer or float type as needed."
   ]
  },
  {
   "cell_type": "markdown",
   "id": "c00758f5",
   "metadata": {},
   "source": [
    "### Full Scan\n",
    "\n",
    "When using <i>PartiQL</i>, if we do not specify an expression in the condition that searches for one of the keys, a full scan will be performed on the entire table, which can imply unexpected costs both economically and in terms of provisioned performance.\n",
    "\n",
    "The `scan` method reads each item in the table and returns all the data from the table. An optional `filter_expression` can be passed to only return items that meet the criteria. However, the filtering is applied after scanning the entire table."
   ]
  },
  {
   "cell_type": "code",
   "execution_count": 9,
   "id": "6eca45fa",
   "metadata": {},
   "outputs": [
    {
     "name": "stdout",
     "output_type": "stream",
     "text": [
      "-----Movies with an outstanding rating using full scan.\n",
      "{\"info\": {\"rating\": 9}, \"year\": 1994, \"title\": \"Pulp Fiction\"}\n",
      "{\"info\": {\"rating\": 9.3}, \"year\": 1994, \"title\": \"The Shawshank Redemption\"}\n"
     ]
    }
   ],
   "source": [
    "table = dynamodb.Table('FilmsData')\n",
    "\n",
    "print(\"-----Movies with an outstanding rating using full scan.\")\n",
    "# Scan and filtering\n",
    "fe = Key('info.rating').gte(9)\n",
    "pe = \"#yr, title, info.rating\"\n",
    "ean = {\"#yr\": \"year\"}\n",
    "resp = table.scan(\n",
    "    FilterExpression=fe,\n",
    "    ProjectionExpression=pe,\n",
    "    ExpressionAttributeNames=ean\n",
    ")\n",
    "for i in resp['Items']:\n",
    "    print(json.dumps(i, cls=DecimalEncoder))"
   ]
  },
  {
   "cell_type": "markdown",
   "id": "ceffeccb",
   "metadata": {},
   "source": [
    "#### Full scan using PartiQL"
   ]
  },
  {
   "cell_type": "code",
   "execution_count": 10,
   "id": "d69b9d39",
   "metadata": {},
   "outputs": [
    {
     "name": "stdout",
     "output_type": "stream",
     "text": [
      "-----Movies from 2016 using PartiQL\n",
      "1994 : Pulp Fiction\n",
      "1994 : The Shawshank Redemption\n"
     ]
    }
   ],
   "source": [
    "print(\"-----Movies from 2016 using PartiQL\")\n",
    "resp = clientDDB.execute_statement(\n",
    "    Statement=\"SELECT title, year, info.rating FROM FilmsData WHERE info.rating >= 9\")\n",
    "for i in resp['Items']:\n",
    "    print(i['year']['N'], \":\", i['title']['S'])"
   ]
  },
  {
   "cell_type": "code",
   "execution_count": null,
   "id": "8ca69fd7",
   "metadata": {},
   "outputs": [],
   "source": []
  }
 ],
 "metadata": {
  "kernelspec": {
   "display_name": "Python 3 (ipykernel)",
   "language": "python",
   "name": "python3"
  },
  "language_info": {
   "codemirror_mode": {
    "name": "ipython",
    "version": 3
   },
   "file_extension": ".py",
   "mimetype": "text/x-python",
   "name": "python",
   "nbconvert_exporter": "python",
   "pygments_lexer": "ipython3",
   "version": "3.7.11"
  }
 },
 "nbformat": 4,
 "nbformat_minor": 5
}
