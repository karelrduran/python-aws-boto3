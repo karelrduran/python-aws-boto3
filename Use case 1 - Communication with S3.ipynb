{
 "cells": [
  {
   "cell_type": "markdown",
   "id": "a6d56124",
   "metadata": {},
   "source": [
    "## Use case 1: Communication with S3\n",
    "We are going to work with the file FilmsData.json, which contains a list of movies that we will use in the following use cases.\n",
    "\n",
    "First, let's see how we can upload the file to S3 using Python:"
   ]
  },
  {
   "cell_type": "code",
   "execution_count": 1,
   "id": "f369f885",
   "metadata": {},
   "outputs": [],
   "source": [
    "import boto3\n",
    "import os"
   ]
  },
  {
   "cell_type": "code",
   "execution_count": 2,
   "id": "4263a50c",
   "metadata": {},
   "outputs": [],
   "source": [
    "\"\"\"\n",
    "    The credentials are stored into environment variables:\n",
    "\"\"\"\n",
    "\n",
    "AWS_ACCESS_KEY = os.getenv('AWS_ACCESS_KEY')\n",
    "AWS_SECRET_KEY = os.getenv('AWS_SECRET_KEY')\n",
    "\n",
    "AWS_REGION = os.getenv('AWS_REGION')\n",
    "BUCKET_NAME = 'my-new-bucket'"
   ]
  },
  {
   "cell_type": "code",
   "execution_count": 3,
   "id": "3b00e473",
   "metadata": {},
   "outputs": [],
   "source": [
    "s3resource = boto3.resource(\n",
    "    's3', \n",
    "    region_name= AWS_REGION, \n",
    "    aws_access_key_id= AWS_ACCESS_KEY, \n",
    "    aws_secret_access_key= AWS_SECRET_KEY\n",
    ")"
   ]
  },
  {
   "cell_type": "code",
   "execution_count": 4,
   "id": "0f17f20c",
   "metadata": {},
   "outputs": [
    {
     "data": {
      "text/plain": [
       "{'ResponseMetadata': {'RequestId': 'XV8G5W6HBS7E6RNM',\n",
       "  'HostId': 'bM61/OPCd8lDf1zQlKX+gowrJVPLL4jktnrRpVlpu+MJxAuYeqvjXwplDJe/x7mMPRoAmEgvDjE=',\n",
       "  'HTTPStatusCode': 200,\n",
       "  'HTTPHeaders': {'x-amz-id-2': 'bM61/OPCd8lDf1zQlKX+gowrJVPLL4jktnrRpVlpu+MJxAuYeqvjXwplDJe/x7mMPRoAmEgvDjE=',\n",
       "   'x-amz-request-id': 'XV8G5W6HBS7E6RNM',\n",
       "   'date': 'Fri, 21 Apr 2023 18:06:56 GMT',\n",
       "   'location': 'http://my-k-new-bucket.s3.amazonaws.com/',\n",
       "   'server': 'AmazonS3',\n",
       "   'content-length': '0'},\n",
       "  'RetryAttempts': 0},\n",
       " 'Location': 'http://my-k-new-bucket.s3.amazonaws.com/'}"
      ]
     },
     "execution_count": 4,
     "metadata": {},
     "output_type": "execute_result"
    }
   ],
   "source": [
    "# Create a bucket to work with it\n",
    "bucket = s3resource.Bucket('my-k-new-bucket')\n",
    "bucket.create(\n",
    "    CreateBucketConfiguration={\n",
    "        'LocationConstraint': 'eu-west-3'\n",
    "    }\n",
    ")"
   ]
  },
  {
   "cell_type": "code",
   "execution_count": 5,
   "id": "ebe9b18e",
   "metadata": {},
   "outputs": [
    {
     "data": {
      "text/plain": [
       "{'ResponseMetadata': {'RequestId': 'K1YD6E3ZJ0JAQB2K',\n",
       "  'HostId': 'tsbctb+YNfJ/IrtzbPx0aHVcLVN22/rasoTIhS8JgAaP1iIp7q3G1rL3MaY9fVfykOhNKHdKOTg=',\n",
       "  'HTTPStatusCode': 200,\n",
       "  'HTTPHeaders': {'x-amz-id-2': 'tsbctb+YNfJ/IrtzbPx0aHVcLVN22/rasoTIhS8JgAaP1iIp7q3G1rL3MaY9fVfykOhNKHdKOTg=',\n",
       "   'x-amz-request-id': 'K1YD6E3ZJ0JAQB2K',\n",
       "   'date': 'Fri, 21 Apr 2023 18:07:03 GMT',\n",
       "   'x-amz-server-side-encryption': 'AES256',\n",
       "   'etag': '\"8ead817b7c54b8fa80bb666822b72424\"',\n",
       "   'server': 'AmazonS3',\n",
       "   'content-length': '0'},\n",
       "  'RetryAttempts': 0},\n",
       " 'ETag': '\"8ead817b7c54b8fa80bb666822b72424\"',\n",
       " 'ServerSideEncryption': 'AES256'}"
      ]
     },
     "execution_count": 5,
     "metadata": {},
     "output_type": "execute_result"
    }
   ],
   "source": [
    "uploadfile = \"data/FilmsData.json\"\n",
    "\n",
    "# Option 1 - resource\n",
    "# 1.1 using upload_file\n",
    "bucket = s3resource.Object(BUCKET_NAME, 'uploadDataR1.txt')\n",
    "bucket.upload_file(uploadfile)\n",
    "\n",
    "# 1.2 using put\n",
    "object = s3resource.Object(BUCKET_NAME, 'uploadDataR2.txt')\n",
    "object.put(Body=b'Example of binary data')\n",
    "\n",
    "# Option 2 - client\n",
    "s3client = boto3.client(\n",
    "    's3', \n",
    "    region_name= AWS_REGION, \n",
    "    aws_access_key_id= AWS_ACCESS_KEY, \n",
    "    aws_secret_access_key= AWS_SECRET_KEY\n",
    ")\n",
    "\n",
    "# 2.1 using upload_file\n",
    "response = s3client.upload_file(uploadfile, BUCKET_NAME, \"uploadDataC1.json\")\n",
    "\n",
    "# 2.2 using upload_fileobj\n",
    "with open(uploadfile, \"rb\") as f:\n",
    "    s3client.upload_fileobj(f, BUCKET_NAME, \"uploadDataC2.json\")\n",
    "\n",
    "# Client: Example of how to create an object and add content to it from Python.\n",
    "s3client.put_object(Body=b'Example of binary data',\n",
    "               Bucket=BUCKET_NAME, Key=\"uploadDataC3\")"
   ]
  },
  {
   "cell_type": "markdown",
   "id": "703ed3bc",
   "metadata": {},
   "source": [
    "### If we want to download a resource from S3 to have it on our local system, we will do:"
   ]
  },
  {
   "cell_type": "code",
   "execution_count": 6,
   "id": "84cfa677",
   "metadata": {},
   "outputs": [],
   "source": [
    "# Download a resource from S3 to have it on our local system\n",
    "\n",
    "# Option 1 - download\n",
    "s3client.download_file(BUCKET_NAME, 'uploadDataC2.json', 'data/downloadData.json')\n",
    "\n",
    "# Option 2 - We open the file and insert the content\n",
    "with open('data/file.json', 'wb') as f:\n",
    "    s3client.download_fileobj(BUCKET_NAME, 'uploadDataC2.json', f)"
   ]
  },
  {
   "cell_type": "code",
   "execution_count": null,
   "id": "bc53d6cb",
   "metadata": {},
   "outputs": [],
   "source": []
  }
 ],
 "metadata": {
  "kernelspec": {
   "display_name": "Python 3 (ipykernel)",
   "language": "python",
   "name": "python3"
  },
  "language_info": {
   "codemirror_mode": {
    "name": "ipython",
    "version": 3
   },
   "file_extension": ".py",
   "mimetype": "text/x-python",
   "name": "python",
   "nbconvert_exporter": "python",
   "pygments_lexer": "ipython3",
   "version": "3.7.11"
  }
 },
 "nbformat": 4,
 "nbformat_minor": 5
}
